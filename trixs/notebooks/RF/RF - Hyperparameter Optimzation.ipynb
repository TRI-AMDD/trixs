{
 "cells": [
  {
   "cell_type": "markdown",
   "metadata": {},
   "source": [
    "# Prologue"
   ]
  },
  {
   "cell_type": "code",
   "execution_count": 24,
   "metadata": {
    "ExecuteTime": {
     "end_time": "2019-08-14T21:16:27.709821Z",
     "start_time": "2019-08-14T21:16:27.686948Z"
    }
   },
   "outputs": [],
   "source": [
    "from pymatgen.core import Structure\n",
    "from pymatgen.analysis.structure_matcher import StructureMatcher, ElementComparator\n",
    "from trixs.spectra.core import XAS_Spectrum, XAS_Collation\n",
    "from trixs.spectra.util import NumpyEncoder\n",
    "from tqdm import tqdm, tqdm_notebook\n",
    "from pprint import pprint\n",
    "import json\n",
    "import os\n",
    "import numpy as np\n",
    "import sklearn\n",
    "import pandas as pd\n",
    "import numpy as np\n",
    "rseed = 42\n",
    "import matplotlib.pyplot as plt\n",
    "%matplotlib inline\n",
    "from sklearn.model_selection import train_test_split, StratifiedKFold\n",
    "\n",
    "storage_directory = '/Users/steventorrisi/Documents/TRIXS/data/MP_OQMD_combined'\n",
    "\n",
    "target_elements_groups=[('Co','O')]#,('Fe','O'),('V','O'),('Cu','O'),\n",
    "                        #('Ni','O'),('Cr','O'),('Mn','O'),('Ti','O')]\n",
    "from trixs.machine_learning.benchmarks import precision_recall_matrix, confusion_matrix\n"
   ]
  },
  {
   "cell_type": "code",
   "execution_count": 25,
   "metadata": {
    "ExecuteTime": {
     "end_time": "2019-08-14T21:16:28.524678Z",
     "start_time": "2019-08-14T21:16:27.712881Z"
    }
   },
   "outputs": [],
   "source": [
    "data_by_pair = {pair:[] for pair in target_elements_groups}\n",
    "for pair in target_elements_groups:\n",
    "    target_file = storage_directory + '/{}_{}_polynomials_pre-post_XY.json'.format(pair[0],pair[1])\n",
    "    with open(target_file, 'r') as f:\n",
    "        for line in f.readlines():\n",
    "            cur_data = json.loads(line)\n",
    "            if cur_data.get('one_hot_coord'):\n",
    "                data_by_pair[pair].append(cur_data)\n",
    "sorted_keys = sorted(list(data_by_pair[('Co','O')][0]['labeled_coefficients'].keys()))"
   ]
  },
  {
   "cell_type": "code",
   "execution_count": 35,
   "metadata": {
    "ExecuteTime": {
     "end_time": "2019-08-14T21:26:43.586332Z",
     "start_time": "2019-08-14T21:20:26.371543Z"
    }
   },
   "outputs": [
    {
     "name": "stdout",
     "output_type": "stream",
     "text": [
      "{'bootstrap': True,\n",
      " 'class_weight': None,\n",
      " 'criterion': 'gini',\n",
      " 'max_depth': None,\n",
      " 'max_features': 'auto',\n",
      " 'max_leaf_nodes': None,\n",
      " 'min_impurity_decrease': 0.0,\n",
      " 'min_impurity_split': None,\n",
      " 'min_samples_leaf': 1,\n",
      " 'min_samples_split': 2,\n",
      " 'min_weight_fraction_leaf': 0.0,\n",
      " 'n_estimators': 'warn',\n",
      " 'n_jobs': None,\n",
      " 'oob_score': False,\n",
      " 'random_state': 42,\n",
      " 'verbose': 0,\n",
      " 'warm_start': False}\n",
      "Fitting 3 folds for each of 18 candidates, totalling 54 fits\n",
      "[CV] max_depth=25, max_features=20, min_samples_leaf=1, min_samples_split=2, n_estimators=200 \n"
     ]
    },
    {
     "name": "stderr",
     "output_type": "stream",
     "text": [
      "[Parallel(n_jobs=1)]: Using backend SequentialBackend with 1 concurrent workers.\n"
     ]
    },
    {
     "name": "stdout",
     "output_type": "stream",
     "text": [
      "[CV]  max_depth=25, max_features=20, min_samples_leaf=1, min_samples_split=2, n_estimators=200, total=   3.4s\n",
      "[CV] max_depth=25, max_features=20, min_samples_leaf=1, min_samples_split=2, n_estimators=200 \n"
     ]
    },
    {
     "name": "stderr",
     "output_type": "stream",
     "text": [
      "[Parallel(n_jobs=1)]: Done   1 out of   1 | elapsed:    3.4s remaining:    0.0s\n"
     ]
    },
    {
     "name": "stdout",
     "output_type": "stream",
     "text": [
      "[CV]  max_depth=25, max_features=20, min_samples_leaf=1, min_samples_split=2, n_estimators=200, total=   3.2s\n",
      "[CV] max_depth=25, max_features=20, min_samples_leaf=1, min_samples_split=2, n_estimators=200 \n",
      "[CV]  max_depth=25, max_features=20, min_samples_leaf=1, min_samples_split=2, n_estimators=200, total=   3.2s\n",
      "[CV] max_depth=25, max_features=20, min_samples_leaf=1, min_samples_split=2, n_estimators=500 \n",
      "[CV]  max_depth=25, max_features=20, min_samples_leaf=1, min_samples_split=2, n_estimators=500, total=   7.0s\n",
      "[CV] max_depth=25, max_features=20, min_samples_leaf=1, min_samples_split=2, n_estimators=500 \n",
      "[CV]  max_depth=25, max_features=20, min_samples_leaf=1, min_samples_split=2, n_estimators=500, total=   7.3s\n",
      "[CV] max_depth=25, max_features=20, min_samples_leaf=1, min_samples_split=2, n_estimators=500 \n",
      "[CV]  max_depth=25, max_features=20, min_samples_leaf=1, min_samples_split=2, n_estimators=500, total=   8.9s\n",
      "[CV] max_depth=25, max_features=25, min_samples_leaf=1, min_samples_split=2, n_estimators=200 \n",
      "[CV]  max_depth=25, max_features=25, min_samples_leaf=1, min_samples_split=2, n_estimators=200, total=   5.4s\n",
      "[CV] max_depth=25, max_features=25, min_samples_leaf=1, min_samples_split=2, n_estimators=200 \n",
      "[CV]  max_depth=25, max_features=25, min_samples_leaf=1, min_samples_split=2, n_estimators=200, total=   3.7s\n",
      "[CV] max_depth=25, max_features=25, min_samples_leaf=1, min_samples_split=2, n_estimators=200 \n",
      "[CV]  max_depth=25, max_features=25, min_samples_leaf=1, min_samples_split=2, n_estimators=200, total=   3.5s\n",
      "[CV] max_depth=25, max_features=25, min_samples_leaf=1, min_samples_split=2, n_estimators=500 \n",
      "[CV]  max_depth=25, max_features=25, min_samples_leaf=1, min_samples_split=2, n_estimators=500, total=   8.4s\n",
      "[CV] max_depth=25, max_features=25, min_samples_leaf=1, min_samples_split=2, n_estimators=500 \n",
      "[CV]  max_depth=25, max_features=25, min_samples_leaf=1, min_samples_split=2, n_estimators=500, total=   8.6s\n",
      "[CV] max_depth=25, max_features=25, min_samples_leaf=1, min_samples_split=2, n_estimators=500 \n",
      "[CV]  max_depth=25, max_features=25, min_samples_leaf=1, min_samples_split=2, n_estimators=500, total=   8.8s\n",
      "[CV] max_depth=25, max_features=30, min_samples_leaf=1, min_samples_split=2, n_estimators=200 \n",
      "[CV]  max_depth=25, max_features=30, min_samples_leaf=1, min_samples_split=2, n_estimators=200, total=   4.2s\n",
      "[CV] max_depth=25, max_features=30, min_samples_leaf=1, min_samples_split=2, n_estimators=200 \n",
      "[CV]  max_depth=25, max_features=30, min_samples_leaf=1, min_samples_split=2, n_estimators=200, total=   4.3s\n",
      "[CV] max_depth=25, max_features=30, min_samples_leaf=1, min_samples_split=2, n_estimators=200 \n",
      "[CV]  max_depth=25, max_features=30, min_samples_leaf=1, min_samples_split=2, n_estimators=200, total=   4.3s\n",
      "[CV] max_depth=25, max_features=30, min_samples_leaf=1, min_samples_split=2, n_estimators=500 \n",
      "[CV]  max_depth=25, max_features=30, min_samples_leaf=1, min_samples_split=2, n_estimators=500, total=  10.3s\n",
      "[CV] max_depth=25, max_features=30, min_samples_leaf=1, min_samples_split=2, n_estimators=500 \n",
      "[CV]  max_depth=25, max_features=30, min_samples_leaf=1, min_samples_split=2, n_estimators=500, total=  12.9s\n",
      "[CV] max_depth=25, max_features=30, min_samples_leaf=1, min_samples_split=2, n_estimators=500 \n",
      "[CV]  max_depth=25, max_features=30, min_samples_leaf=1, min_samples_split=2, n_estimators=500, total=  14.8s\n",
      "[CV] max_depth=30, max_features=20, min_samples_leaf=1, min_samples_split=2, n_estimators=200 \n",
      "[CV]  max_depth=30, max_features=20, min_samples_leaf=1, min_samples_split=2, n_estimators=200, total=   4.0s\n",
      "[CV] max_depth=30, max_features=20, min_samples_leaf=1, min_samples_split=2, n_estimators=200 \n",
      "[CV]  max_depth=30, max_features=20, min_samples_leaf=1, min_samples_split=2, n_estimators=200, total=   4.0s\n",
      "[CV] max_depth=30, max_features=20, min_samples_leaf=1, min_samples_split=2, n_estimators=200 \n",
      "[CV]  max_depth=30, max_features=20, min_samples_leaf=1, min_samples_split=2, n_estimators=200, total=   3.9s\n",
      "[CV] max_depth=30, max_features=20, min_samples_leaf=1, min_samples_split=2, n_estimators=500 \n",
      "[CV]  max_depth=30, max_features=20, min_samples_leaf=1, min_samples_split=2, n_estimators=500, total=   9.9s\n",
      "[CV] max_depth=30, max_features=20, min_samples_leaf=1, min_samples_split=2, n_estimators=500 \n",
      "[CV]  max_depth=30, max_features=20, min_samples_leaf=1, min_samples_split=2, n_estimators=500, total=  10.4s\n",
      "[CV] max_depth=30, max_features=20, min_samples_leaf=1, min_samples_split=2, n_estimators=500 \n",
      "[CV]  max_depth=30, max_features=20, min_samples_leaf=1, min_samples_split=2, n_estimators=500, total=   9.2s\n",
      "[CV] max_depth=30, max_features=25, min_samples_leaf=1, min_samples_split=2, n_estimators=200 \n",
      "[CV]  max_depth=30, max_features=25, min_samples_leaf=1, min_samples_split=2, n_estimators=200, total=   4.5s\n",
      "[CV] max_depth=30, max_features=25, min_samples_leaf=1, min_samples_split=2, n_estimators=200 \n",
      "[CV]  max_depth=30, max_features=25, min_samples_leaf=1, min_samples_split=2, n_estimators=200, total=   5.1s\n",
      "[CV] max_depth=30, max_features=25, min_samples_leaf=1, min_samples_split=2, n_estimators=200 \n",
      "[CV]  max_depth=30, max_features=25, min_samples_leaf=1, min_samples_split=2, n_estimators=200, total=   5.3s\n",
      "[CV] max_depth=30, max_features=25, min_samples_leaf=1, min_samples_split=2, n_estimators=500 \n",
      "[CV]  max_depth=30, max_features=25, min_samples_leaf=1, min_samples_split=2, n_estimators=500, total=  12.0s\n",
      "[CV] max_depth=30, max_features=25, min_samples_leaf=1, min_samples_split=2, n_estimators=500 \n",
      "[CV]  max_depth=30, max_features=25, min_samples_leaf=1, min_samples_split=2, n_estimators=500, total=  10.1s\n",
      "[CV] max_depth=30, max_features=25, min_samples_leaf=1, min_samples_split=2, n_estimators=500 \n",
      "[CV]  max_depth=30, max_features=25, min_samples_leaf=1, min_samples_split=2, n_estimators=500, total=   9.4s\n",
      "[CV] max_depth=30, max_features=30, min_samples_leaf=1, min_samples_split=2, n_estimators=200 \n",
      "[CV]  max_depth=30, max_features=30, min_samples_leaf=1, min_samples_split=2, n_estimators=200, total=   4.3s\n",
      "[CV] max_depth=30, max_features=30, min_samples_leaf=1, min_samples_split=2, n_estimators=200 \n",
      "[CV]  max_depth=30, max_features=30, min_samples_leaf=1, min_samples_split=2, n_estimators=200, total=   7.1s\n",
      "[CV] max_depth=30, max_features=30, min_samples_leaf=1, min_samples_split=2, n_estimators=200 \n",
      "[CV]  max_depth=30, max_features=30, min_samples_leaf=1, min_samples_split=2, n_estimators=200, total=   5.7s\n",
      "[CV] max_depth=30, max_features=30, min_samples_leaf=1, min_samples_split=2, n_estimators=500 \n",
      "[CV]  max_depth=30, max_features=30, min_samples_leaf=1, min_samples_split=2, n_estimators=500, total=  10.6s\n",
      "[CV] max_depth=30, max_features=30, min_samples_leaf=1, min_samples_split=2, n_estimators=500 \n",
      "[CV]  max_depth=30, max_features=30, min_samples_leaf=1, min_samples_split=2, n_estimators=500, total=  11.0s\n",
      "[CV] max_depth=30, max_features=30, min_samples_leaf=1, min_samples_split=2, n_estimators=500 \n",
      "[CV]  max_depth=30, max_features=30, min_samples_leaf=1, min_samples_split=2, n_estimators=500, total=  10.8s\n",
      "[CV] max_depth=35, max_features=20, min_samples_leaf=1, min_samples_split=2, n_estimators=200 \n",
      "[CV]  max_depth=35, max_features=20, min_samples_leaf=1, min_samples_split=2, n_estimators=200, total=   2.8s\n",
      "[CV] max_depth=35, max_features=20, min_samples_leaf=1, min_samples_split=2, n_estimators=200 \n",
      "[CV]  max_depth=35, max_features=20, min_samples_leaf=1, min_samples_split=2, n_estimators=200, total=   2.9s\n",
      "[CV] max_depth=35, max_features=20, min_samples_leaf=1, min_samples_split=2, n_estimators=200 \n",
      "[CV]  max_depth=35, max_features=20, min_samples_leaf=1, min_samples_split=2, n_estimators=200, total=   3.0s\n",
      "[CV] max_depth=35, max_features=20, min_samples_leaf=1, min_samples_split=2, n_estimators=500 \n",
      "[CV]  max_depth=35, max_features=20, min_samples_leaf=1, min_samples_split=2, n_estimators=500, total=   6.6s\n",
      "[CV] max_depth=35, max_features=20, min_samples_leaf=1, min_samples_split=2, n_estimators=500 \n",
      "[CV]  max_depth=35, max_features=20, min_samples_leaf=1, min_samples_split=2, n_estimators=500, total=   8.7s\n",
      "[CV] max_depth=35, max_features=20, min_samples_leaf=1, min_samples_split=2, n_estimators=500 \n"
     ]
    },
    {
     "name": "stdout",
     "output_type": "stream",
     "text": [
      "[CV]  max_depth=35, max_features=20, min_samples_leaf=1, min_samples_split=2, n_estimators=500, total=   6.9s\n",
      "[CV] max_depth=35, max_features=25, min_samples_leaf=1, min_samples_split=2, n_estimators=200 \n",
      "[CV]  max_depth=35, max_features=25, min_samples_leaf=1, min_samples_split=2, n_estimators=200, total=   3.6s\n",
      "[CV] max_depth=35, max_features=25, min_samples_leaf=1, min_samples_split=2, n_estimators=200 \n",
      "[CV]  max_depth=35, max_features=25, min_samples_leaf=1, min_samples_split=2, n_estimators=200, total=   3.7s\n",
      "[CV] max_depth=35, max_features=25, min_samples_leaf=1, min_samples_split=2, n_estimators=200 \n",
      "[CV]  max_depth=35, max_features=25, min_samples_leaf=1, min_samples_split=2, n_estimators=200, total=   4.0s\n",
      "[CV] max_depth=35, max_features=25, min_samples_leaf=1, min_samples_split=2, n_estimators=500 \n",
      "[CV]  max_depth=35, max_features=25, min_samples_leaf=1, min_samples_split=2, n_estimators=500, total=   8.8s\n",
      "[CV] max_depth=35, max_features=25, min_samples_leaf=1, min_samples_split=2, n_estimators=500 \n",
      "[CV]  max_depth=35, max_features=25, min_samples_leaf=1, min_samples_split=2, n_estimators=500, total=   9.3s\n",
      "[CV] max_depth=35, max_features=25, min_samples_leaf=1, min_samples_split=2, n_estimators=500 \n",
      "[CV]  max_depth=35, max_features=25, min_samples_leaf=1, min_samples_split=2, n_estimators=500, total=   8.7s\n",
      "[CV] max_depth=35, max_features=30, min_samples_leaf=1, min_samples_split=2, n_estimators=200 \n",
      "[CV]  max_depth=35, max_features=30, min_samples_leaf=1, min_samples_split=2, n_estimators=200, total=   3.9s\n",
      "[CV] max_depth=35, max_features=30, min_samples_leaf=1, min_samples_split=2, n_estimators=200 \n",
      "[CV]  max_depth=35, max_features=30, min_samples_leaf=1, min_samples_split=2, n_estimators=200, total=   4.2s\n",
      "[CV] max_depth=35, max_features=30, min_samples_leaf=1, min_samples_split=2, n_estimators=200 \n",
      "[CV]  max_depth=35, max_features=30, min_samples_leaf=1, min_samples_split=2, n_estimators=200, total=   4.3s\n",
      "[CV] max_depth=35, max_features=30, min_samples_leaf=1, min_samples_split=2, n_estimators=500 \n",
      "[CV]  max_depth=35, max_features=30, min_samples_leaf=1, min_samples_split=2, n_estimators=500, total=  10.8s\n",
      "[CV] max_depth=35, max_features=30, min_samples_leaf=1, min_samples_split=2, n_estimators=500 \n",
      "[CV]  max_depth=35, max_features=30, min_samples_leaf=1, min_samples_split=2, n_estimators=500, total=  10.2s\n",
      "[CV] max_depth=35, max_features=30, min_samples_leaf=1, min_samples_split=2, n_estimators=500 \n",
      "[CV]  max_depth=35, max_features=30, min_samples_leaf=1, min_samples_split=2, n_estimators=500, total=  10.2s\n"
     ]
    },
    {
     "name": "stderr",
     "output_type": "stream",
     "text": [
      "[Parallel(n_jobs=1)]: Done  54 out of  54 | elapsed:  6.2min finished\n"
     ]
    }
   ],
   "source": [
    "from sklearn.ensemble import RandomForestClassifier\n",
    "from sklearn.model_selection import GridSearchCV, RandomizedSearchCV\n",
    "from sklearn.model_selection import train_test_split\n",
    "\n",
    "for pair in [('Co','O')]:\n",
    "    X = []\n",
    "    Y = []    \n",
    "    for point in data_by_pair[pair]:\n",
    "        #print(point['labeled_coefficients'])\n",
    "        #assert False\n",
    "        X.append([point['labeled_coefficients'][key] for key in sorted_keys])\n",
    "        Y.append(point['coordination'])\n",
    "\n",
    "    X = np.array(X)\n",
    "    Y = np.array(Y)\n",
    "    \n",
    "    x_train, x_test, y_train, y_test = \\\n",
    "      train_test_split(X, Y, test_size=0.1,\n",
    "                   random_state=42)\n",
    "    x_train, x_valid, y_train, y_valid = \\\n",
    "      train_test_split(x_train, y_train, test_size=0.1,\n",
    "                       random_state=42)\n",
    "    \n",
    "    forest = RandomForestClassifier(random_state=42)\n",
    "    pprint(forest.get_params())\n",
    "    \n",
    "    #model.fit(X,Y)\n",
    "    ##print(X)\n",
    "    #print(Y)\n",
    "    n_estimators = [200,500]\n",
    "    max_depth=[25,30,35]\n",
    "    min_samples_split= [2]\n",
    "    min_samples_leaf = [1]\n",
    "    max_features = [20,25,30]\n",
    "\n",
    "\n",
    "    hyperF = dict(n_estimators=n_estimators, max_depth=max_depth,\n",
    "                 min_samples_split = min_samples_split, \n",
    "                 min_samples_leaf = min_samples_leaf,\n",
    "                 max_features = max_features)\n",
    "    gridF = GridSearchCV(forest,hyperF, cv = 3, verbose = 2)\n",
    "    bestF = gridF.fit(x_train,y_train)\n",
    "    #randF =  RandomizedSearchCV(estimator = forest,\n",
    "    #                           param_distributions = hyperF, \n",
    "    #                           n_iter = 100, cv = 3, \n",
    "    #                           verbose=2, random_state=42, \n",
    "    #                           n_jobs = -1)\n",
    "    #bestF = randF.fit(x_train,y_train)\n"
   ]
  },
  {
   "cell_type": "code",
   "execution_count": 38,
   "metadata": {
    "ExecuteTime": {
     "end_time": "2019-08-14T21:27:01.724786Z",
     "start_time": "2019-08-14T21:27:01.666956Z"
    },
    "scrolled": false
   },
   "outputs": [
    {
     "name": "stdout",
     "output_type": "stream",
     "text": [
      "RandomForestClassifier(bootstrap=True, class_weight=None, criterion='gini',\n",
      "                       max_depth=25, max_features=20, max_leaf_nodes=None,\n",
      "                       min_impurity_decrease=0.0, min_impurity_split=None,\n",
      "                       min_samples_leaf=1, min_samples_split=2,\n",
      "                       min_weight_fraction_leaf=0.0, n_estimators=200,\n",
      "                       n_jobs=None, oob_score=False, random_state=42, verbose=0,\n",
      "                       warm_start=False)\n",
      "0.8717948717948718\n",
      "[[0.84       0.89361702 0.86597938]\n",
      " [0.77777778 0.64615385 0.70588235]\n",
      " [0.9112426  0.95652174 0.93333333]]\n"
     ]
    }
   ],
   "source": [
    "the_best =bestF.best_estimator_\n",
    "print(bestF.best_estimator_)\n",
    "\n",
    "print(the_best.score(x_valid,y_valid))\n",
    "fits = the_best.predict(x_valid)\n",
    "#print(the_best.score(x_test,y_test))\n",
    "print(precision_recall_matrix(fits,y_valid,[4,5,6]))"
   ]
  },
  {
   "cell_type": "code",
   "execution_count": null,
   "metadata": {},
   "outputs": [],
   "source": []
  },
  {
   "cell_type": "code",
   "execution_count": null,
   "metadata": {},
   "outputs": [],
   "source": []
  }
 ],
 "metadata": {
  "kernelspec": {
   "display_name": "Python 3",
   "language": "python",
   "name": "python3"
  },
  "language_info": {
   "codemirror_mode": {
    "name": "ipython",
    "version": 3
   },
   "file_extension": ".py",
   "mimetype": "text/x-python",
   "name": "python",
   "nbconvert_exporter": "python",
   "pygments_lexer": "ipython3",
   "version": "3.6.8"
  }
 },
 "nbformat": 4,
 "nbformat_minor": 2
}
